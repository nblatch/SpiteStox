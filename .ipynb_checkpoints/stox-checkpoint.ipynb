{
 "cells": [
  {
   "cell_type": "code",
   "execution_count": 2,
   "id": "6b66d8a3-452c-45af-94c9-929c685f16eb",
   "metadata": {},
   "outputs": [],
   "source": [
    "import pandas as pd"
   ]
  },
  {
   "cell_type": "code",
   "execution_count": 6,
   "id": "f4e9ad0d-4a83-4e62-9896-aa4c5fb82967",
   "metadata": {},
   "outputs": [
    {
     "data": {
      "text/html": [
       "<div>\n",
       "<style scoped>\n",
       "    .dataframe tbody tr th:only-of-type {\n",
       "        vertical-align: middle;\n",
       "    }\n",
       "\n",
       "    .dataframe tbody tr th {\n",
       "        vertical-align: top;\n",
       "    }\n",
       "\n",
       "    .dataframe thead th {\n",
       "        text-align: right;\n",
       "    }\n",
       "</style>\n",
       "<table border=\"1\" class=\"dataframe\">\n",
       "  <thead>\n",
       "    <tr style=\"text-align: right;\">\n",
       "      <th></th>\n",
       "      <th>Ticker</th>\n",
       "      <th>Price</th>\n",
       "    </tr>\n",
       "  </thead>\n",
       "  <tbody>\n",
       "    <tr>\n",
       "      <th>0</th>\n",
       "      <td>ANGL</td>\n",
       "      <td>196</td>\n",
       "    </tr>\n",
       "    <tr>\n",
       "      <th>1</th>\n",
       "      <td>ARYE</td>\n",
       "      <td>433</td>\n",
       "    </tr>\n",
       "    <tr>\n",
       "      <th>2</th>\n",
       "      <td>DANL</td>\n",
       "      <td>223</td>\n",
       "    </tr>\n",
       "    <tr>\n",
       "      <th>3</th>\n",
       "      <td>DRNC</td>\n",
       "      <td>170</td>\n",
       "    </tr>\n",
       "    <tr>\n",
       "      <th>4</th>\n",
       "      <td>ELLI</td>\n",
       "      <td>222</td>\n",
       "    </tr>\n",
       "    <tr>\n",
       "      <th>5</th>\n",
       "      <td>FRDY</td>\n",
       "      <td>170</td>\n",
       "    </tr>\n",
       "    <tr>\n",
       "      <th>6</th>\n",
       "      <td>JIN</td>\n",
       "      <td>185</td>\n",
       "    </tr>\n",
       "    <tr>\n",
       "      <th>7</th>\n",
       "      <td>RCHL</td>\n",
       "      <td>174</td>\n",
       "    </tr>\n",
       "  </tbody>\n",
       "</table>\n",
       "</div>"
      ],
      "text/plain": [
       "  Ticker  Price\n",
       "0   ANGL    196\n",
       "1   ARYE    433\n",
       "2   DANL    223\n",
       "3   DRNC    170\n",
       "4   ELLI    222\n",
       "5   FRDY    170\n",
       "6    JIN    185\n",
       "7   RCHL    174"
      ]
     },
     "execution_count": 6,
     "metadata": {},
     "output_type": "execute_result"
    }
   ],
   "source": [
    "stox_data = {\n",
    "    'Ticker': ['ANGL','ARYE','DANL','DRNC','ELLI','FRDY','JIN','RCHL'],\n",
    "    'Price': [196,433,223,170,222,170,185,174]\n",
    "}\n",
    "\n",
    "stox_df = pd.DataFrame(stox_data)\n",
    "stox_df\n"
   ]
  },
  {
   "cell_type": "code",
   "execution_count": 8,
   "id": "dc38f760-626b-448e-86b1-d1b407a00a2e",
   "metadata": {},
   "outputs": [
    {
     "data": {
      "text/plain": [
       "{'balance': 1000,\n",
       " 'holdings': {'ANGL': 0,\n",
       "  'ARYE': 0,\n",
       "  'DANL': 0,\n",
       "  'DRNC': 0,\n",
       "  'ELLI': 0,\n",
       "  'FRDY': 0,\n",
       "  'JIN': 0,\n",
       "  'RCHL': 0}}"
      ]
     },
     "execution_count": 8,
     "metadata": {},
     "output_type": "execute_result"
    }
   ],
   "source": [
    "starting_balance = 1000\n",
    "\n",
    "portfolio = {\n",
    "    'balance': starting_balance,\n",
    "    'holdings': {ticker: 0 for ticker in stox_df['Ticker']}\n",
    "}\n",
    "\n",
    "portfolio"
   ]
  },
  {
   "cell_type": "code",
   "execution_count": 12,
   "id": "43ce84ee-cc98-4ab6-922c-b12f8febdd35",
   "metadata": {},
   "outputs": [],
   "source": [
    "def buy_stock(ticker, quantity):\n",
    "    price = stox_df.loc[stox_df['Ticker'] == ticker, 'Price'].values[0]\n",
    "    cost = price * quantity\n",
    "    broker_fee = 5\n",
    "    total_cost = cost + broker_fee\n",
    "\n",
    "    if portfolio['balance'] >= total_cost:\n",
    "        portfolio['balance'] -= total_cost\n",
    "        portfolio['holdings'][ticker] += quantity\n",
    "        print(f\"Bought {quantity} shares of {ticker} at ₣{price} each (₣{total_cost} total).\")\n",
    "    else:\n",
    "        print(\"NOT ENOUGH FUNDS, BITCH\")\n",
    "\n",
    "\n",
    "    print(\"Balance:\", portfolio['balance'])\n",
    "    print(\"Holdings:\", portfolio['holdings'])\n"
   ]
  },
  {
   "cell_type": "code",
   "execution_count": 14,
   "id": "cc08616f-87db-47de-bd31-dc9a5c73a309",
   "metadata": {},
   "outputs": [
    {
     "name": "stdout",
     "output_type": "stream",
     "text": [
      "Bought 2 shares of FRDY at ₣170 each (₣345 total).\n",
      "Balance: 655\n",
      "Holdings: {'ANGL': 0, 'ARYE': 0, 'DANL': 0, 'DRNC': 0, 'ELLI': 0, 'FRDY': 2, 'JIN': 0, 'RCHL': 0}\n"
     ]
    }
   ],
   "source": [
    "buy_stock('FRDY', 2)"
   ]
  },
  {
   "cell_type": "code",
   "execution_count": 16,
   "id": "e1b1e3ca-4c86-481b-ac08-95e72b32f537",
   "metadata": {},
   "outputs": [
    {
     "name": "stdout",
     "output_type": "stream",
     "text": [
      "NOT ENOUGH FUNDS, BITCH\n",
      "Balance: 655\n",
      "Holdings: {'ANGL': 0, 'ARYE': 0, 'DANL': 0, 'DRNC': 0, 'ELLI': 0, 'FRDY': 2, 'JIN': 0, 'RCHL': 0}\n"
     ]
    }
   ],
   "source": [
    "buy_stock('ARYE', 3)"
   ]
  },
  {
   "cell_type": "code",
   "execution_count": null,
   "id": "01275204-9601-4827-89d1-ad695f17eb36",
   "metadata": {},
   "outputs": [],
   "source": [
    "buy_stock('ARYE', 1)"
   ]
  }
 ],
 "metadata": {
  "kernelspec": {
   "display_name": "Python [conda env:base] *",
   "language": "python",
   "name": "conda-base-py"
  },
  "language_info": {
   "codemirror_mode": {
    "name": "ipython",
    "version": 3
   },
   "file_extension": ".py",
   "mimetype": "text/x-python",
   "name": "python",
   "nbconvert_exporter": "python",
   "pygments_lexer": "ipython3",
   "version": "3.12.7"
  }
 },
 "nbformat": 4,
 "nbformat_minor": 5
}
